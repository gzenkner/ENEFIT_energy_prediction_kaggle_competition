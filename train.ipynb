{
 "cells": [
  {
   "cell_type": "code",
   "execution_count": 1,
   "id": "bb326873",
   "metadata": {
    "_cell_guid": "b1076dfc-b9ad-4769-8c92-a6c4dae69d19",
    "_uuid": "8f2839f25d086af736a60e9eeb907d3b93b6e0e5",
    "execution": {
     "iopub.execute_input": "2023-12-28T15:52:01.279282Z",
     "iopub.status.busy": "2023-12-28T15:52:01.278804Z",
     "iopub.status.idle": "2023-12-28T15:52:01.787747Z",
     "shell.execute_reply": "2023-12-28T15:52:01.786351Z"
    },
    "papermill": {
     "duration": 0.519463,
     "end_time": "2023-12-28T15:52:01.790571",
     "exception": false,
     "start_time": "2023-12-28T15:52:01.271108",
     "status": "completed"
    },
    "tags": []
   },
   "outputs": [
    {
     "name": "stdout",
     "output_type": "stream",
     "text": [
      "/kaggle/input/predict-energy-behavior-of-prosumers/client.csv\n",
      "/kaggle/input/predict-energy-behavior-of-prosumers/gas_prices.csv\n",
      "/kaggle/input/predict-energy-behavior-of-prosumers/electricity_prices.csv\n",
      "/kaggle/input/predict-energy-behavior-of-prosumers/weather_station_to_county_mapping.csv\n",
      "/kaggle/input/predict-energy-behavior-of-prosumers/public_timeseries_testing_util.py\n",
      "/kaggle/input/predict-energy-behavior-of-prosumers/historical_weather.csv\n",
      "/kaggle/input/predict-energy-behavior-of-prosumers/county_id_to_name_map.json\n",
      "/kaggle/input/predict-energy-behavior-of-prosumers/train.csv\n",
      "/kaggle/input/predict-energy-behavior-of-prosumers/forecast_weather.csv\n",
      "/kaggle/input/predict-energy-behavior-of-prosumers/example_test_files/sample_submission.csv\n",
      "/kaggle/input/predict-energy-behavior-of-prosumers/example_test_files/client.csv\n",
      "/kaggle/input/predict-energy-behavior-of-prosumers/example_test_files/gas_prices.csv\n",
      "/kaggle/input/predict-energy-behavior-of-prosumers/example_test_files/electricity_prices.csv\n",
      "/kaggle/input/predict-energy-behavior-of-prosumers/example_test_files/historical_weather.csv\n",
      "/kaggle/input/predict-energy-behavior-of-prosumers/example_test_files/revealed_targets.csv\n",
      "/kaggle/input/predict-energy-behavior-of-prosumers/example_test_files/test.csv\n",
      "/kaggle/input/predict-energy-behavior-of-prosumers/example_test_files/forecast_weather.csv\n",
      "/kaggle/input/predict-energy-behavior-of-prosumers/enefit/competition.cpython-310-x86_64-linux-gnu.so\n",
      "/kaggle/input/predict-energy-behavior-of-prosumers/enefit/__init__.py\n"
     ]
    }
   ],
   "source": [
    "# This Python 3 environment comes with many helpful analytics libraries installed\n",
    "# It is defined by the kaggle/python Docker image: https://github.com/kaggle/docker-python\n",
    "# For example, here's several helpful packages to load\n",
    "\n",
    "import numpy as np # linear algebra\n",
    "import pandas as pd # data processing, CSV file I/O (e.g. pd.read_csv)\n",
    "\n",
    "# Input data files are available in the read-only \"../input/\" directory\n",
    "# For example, running this (by clicking run or pressing Shift+Enter) will list all files under the input directory\n",
    "\n",
    "import os\n",
    "for dirname, _, filenames in os.walk('/kaggle/input'):\n",
    "    for filename in filenames:\n",
    "        print(os.path.join(dirname, filename))\n",
    "\n",
    "# You can write up to 20GB to the current directory (/kaggle/working/) that gets preserved as output when you create a version using \"Save & Run All\" \n",
    "# You can also write temporary files to /kaggle/temp/, but they won't be saved outside of the current session"
   ]
  },
  {
   "cell_type": "code",
   "execution_count": 2,
   "id": "d64261e0",
   "metadata": {
    "execution": {
     "iopub.execute_input": "2023-12-28T15:52:01.802926Z",
     "iopub.status.busy": "2023-12-28T15:52:01.802191Z",
     "iopub.status.idle": "2023-12-28T15:52:01.849663Z",
     "shell.execute_reply": "2023-12-28T15:52:01.848570Z"
    },
    "papermill": {
     "duration": 0.056678,
     "end_time": "2023-12-28T15:52:01.852576",
     "exception": false,
     "start_time": "2023-12-28T15:52:01.795898",
     "status": "completed"
    },
    "tags": []
   },
   "outputs": [],
   "source": [
    "import enefit\n",
    "env = enefit.make_env()\n",
    "iter_test = env.iter_test()"
   ]
  },
  {
   "cell_type": "code",
   "execution_count": 3,
   "id": "e121f653",
   "metadata": {
    "execution": {
     "iopub.execute_input": "2023-12-28T15:52:01.864267Z",
     "iopub.status.busy": "2023-12-28T15:52:01.863556Z",
     "iopub.status.idle": "2023-12-28T15:52:13.679955Z",
     "shell.execute_reply": "2023-12-28T15:52:13.678679Z"
    },
    "papermill": {
     "duration": 11.825921,
     "end_time": "2023-12-28T15:52:13.683332",
     "exception": false,
     "start_time": "2023-12-28T15:52:01.857411",
     "status": "completed"
    },
    "tags": []
   },
   "outputs": [],
   "source": [
    "import os\n",
    "import gc\n",
    "\n",
    "import numpy as np\n",
    "import pandas as pd\n",
    "import matplotlib.pyplot as plt\n",
    "\n",
    "import seaborn as sns\n",
    "\n",
    "from sklearn.model_selection import cross_val_score\n",
    "\n",
    "import xgboost as xgb\n",
    "import lightgbm as lgb\n",
    "import catboost as cb\n",
    "\n",
    "import optuna\n",
    "import shap"
   ]
  },
  {
   "cell_type": "code",
   "execution_count": 4,
   "id": "6eecb267",
   "metadata": {
    "execution": {
     "iopub.execute_input": "2023-12-28T15:52:13.696356Z",
     "iopub.status.busy": "2023-12-28T15:52:13.694806Z",
     "iopub.status.idle": "2023-12-28T15:52:13.707358Z",
     "shell.execute_reply": "2023-12-28T15:52:13.705946Z"
    },
    "papermill": {
     "duration": 0.021916,
     "end_time": "2023-12-28T15:52:13.710198",
     "exception": false,
     "start_time": "2023-12-28T15:52:13.688282",
     "status": "completed"
    },
    "tags": []
   },
   "outputs": [],
   "source": [
    "def feature_eng(df):\n",
    "    # used for transforming new / test /prediction data only because of difference in column name prediction_datetime vs datetime\n",
    "\n",
    "    df[\"prediction_datetime\"] = pd.to_datetime(df[\"prediction_datetime\"])\n",
    "\n",
    "    df[\"month\"]  = df[\"prediction_datetime\"].dt.month\n",
    "    df[\"day\"]     = df[\"prediction_datetime\"].dt.day\n",
    "    df[\"weekday\"] = df[\"prediction_datetime\"].dt.weekday\n",
    "    df[\"hour\"]    = df[\"prediction_datetime\"].dt.hour\n",
    "\n",
    "    df[\"county\"]       = df[\"county\"].astype(\"category\")\n",
    "    df[\"is_business\"]  = df[\"is_business\"].astype(\"category\")\n",
    "    df[\"product_type\"] = df[\"product_type\"].astype(\"category\")\n",
    "    df[\"is_consumption\"] = df[\"is_consumption\"].astype(\"category\")\n",
    "    \n",
    "    \n",
    "    df = df.set_index([\"row_id\"])\n",
    "    df = df.drop(columns=[\"prediction_datetime\", \"prediction_unit_id\", \"currently_scored\"])\n",
    "\n",
    "    return df"
   ]
  },
  {
   "cell_type": "code",
   "execution_count": 5,
   "id": "3b7024bd",
   "metadata": {
    "execution": {
     "iopub.execute_input": "2023-12-28T15:52:13.722695Z",
     "iopub.status.busy": "2023-12-28T15:52:13.721150Z",
     "iopub.status.idle": "2023-12-28T15:52:18.994506Z",
     "shell.execute_reply": "2023-12-28T15:52:18.993532Z"
    },
    "papermill": {
     "duration": 5.282157,
     "end_time": "2023-12-28T15:52:18.997174",
     "exception": false,
     "start_time": "2023-12-28T15:52:13.715017",
     "status": "completed"
    },
    "tags": []
   },
   "outputs": [
    {
     "data": {
      "text/html": [
       "<div>\n",
       "<style scoped>\n",
       "    .dataframe tbody tr th:only-of-type {\n",
       "        vertical-align: middle;\n",
       "    }\n",
       "\n",
       "    .dataframe tbody tr th {\n",
       "        vertical-align: top;\n",
       "    }\n",
       "\n",
       "    .dataframe thead th {\n",
       "        text-align: right;\n",
       "    }\n",
       "</style>\n",
       "<table border=\"1\" class=\"dataframe\">\n",
       "  <thead>\n",
       "    <tr style=\"text-align: right;\">\n",
       "      <th></th>\n",
       "      <th></th>\n",
       "      <th>county</th>\n",
       "      <th>is_business</th>\n",
       "      <th>product_type</th>\n",
       "      <th>is_consumption</th>\n",
       "      <th>month</th>\n",
       "      <th>day</th>\n",
       "      <th>weekday</th>\n",
       "      <th>hour</th>\n",
       "      <th>target</th>\n",
       "    </tr>\n",
       "    <tr>\n",
       "      <th>row_id</th>\n",
       "      <th>data_block_id</th>\n",
       "      <th></th>\n",
       "      <th></th>\n",
       "      <th></th>\n",
       "      <th></th>\n",
       "      <th></th>\n",
       "      <th></th>\n",
       "      <th></th>\n",
       "      <th></th>\n",
       "      <th></th>\n",
       "    </tr>\n",
       "  </thead>\n",
       "  <tbody>\n",
       "    <tr>\n",
       "      <th>0</th>\n",
       "      <th>0</th>\n",
       "      <td>0</td>\n",
       "      <td>0</td>\n",
       "      <td>1</td>\n",
       "      <td>0</td>\n",
       "      <td>9</td>\n",
       "      <td>1</td>\n",
       "      <td>2</td>\n",
       "      <td>0</td>\n",
       "      <td>0.713</td>\n",
       "    </tr>\n",
       "    <tr>\n",
       "      <th>1</th>\n",
       "      <th>0</th>\n",
       "      <td>0</td>\n",
       "      <td>0</td>\n",
       "      <td>1</td>\n",
       "      <td>1</td>\n",
       "      <td>9</td>\n",
       "      <td>1</td>\n",
       "      <td>2</td>\n",
       "      <td>0</td>\n",
       "      <td>96.590</td>\n",
       "    </tr>\n",
       "    <tr>\n",
       "      <th>2</th>\n",
       "      <th>0</th>\n",
       "      <td>0</td>\n",
       "      <td>0</td>\n",
       "      <td>2</td>\n",
       "      <td>0</td>\n",
       "      <td>9</td>\n",
       "      <td>1</td>\n",
       "      <td>2</td>\n",
       "      <td>0</td>\n",
       "      <td>0.000</td>\n",
       "    </tr>\n",
       "    <tr>\n",
       "      <th>3</th>\n",
       "      <th>0</th>\n",
       "      <td>0</td>\n",
       "      <td>0</td>\n",
       "      <td>2</td>\n",
       "      <td>1</td>\n",
       "      <td>9</td>\n",
       "      <td>1</td>\n",
       "      <td>2</td>\n",
       "      <td>0</td>\n",
       "      <td>17.314</td>\n",
       "    </tr>\n",
       "    <tr>\n",
       "      <th>4</th>\n",
       "      <th>0</th>\n",
       "      <td>0</td>\n",
       "      <td>0</td>\n",
       "      <td>3</td>\n",
       "      <td>0</td>\n",
       "      <td>9</td>\n",
       "      <td>1</td>\n",
       "      <td>2</td>\n",
       "      <td>0</td>\n",
       "      <td>2.904</td>\n",
       "    </tr>\n",
       "    <tr>\n",
       "      <th>...</th>\n",
       "      <th>...</th>\n",
       "      <td>...</td>\n",
       "      <td>...</td>\n",
       "      <td>...</td>\n",
       "      <td>...</td>\n",
       "      <td>...</td>\n",
       "      <td>...</td>\n",
       "      <td>...</td>\n",
       "      <td>...</td>\n",
       "      <td>...</td>\n",
       "    </tr>\n",
       "    <tr>\n",
       "      <th>2018347</th>\n",
       "      <th>637</th>\n",
       "      <td>15</td>\n",
       "      <td>1</td>\n",
       "      <td>0</td>\n",
       "      <td>1</td>\n",
       "      <td>5</td>\n",
       "      <td>31</td>\n",
       "      <td>2</td>\n",
       "      <td>23</td>\n",
       "      <td>197.233</td>\n",
       "    </tr>\n",
       "    <tr>\n",
       "      <th>2018348</th>\n",
       "      <th>637</th>\n",
       "      <td>15</td>\n",
       "      <td>1</td>\n",
       "      <td>1</td>\n",
       "      <td>0</td>\n",
       "      <td>5</td>\n",
       "      <td>31</td>\n",
       "      <td>2</td>\n",
       "      <td>23</td>\n",
       "      <td>0.000</td>\n",
       "    </tr>\n",
       "    <tr>\n",
       "      <th>2018349</th>\n",
       "      <th>637</th>\n",
       "      <td>15</td>\n",
       "      <td>1</td>\n",
       "      <td>1</td>\n",
       "      <td>1</td>\n",
       "      <td>5</td>\n",
       "      <td>31</td>\n",
       "      <td>2</td>\n",
       "      <td>23</td>\n",
       "      <td>28.404</td>\n",
       "    </tr>\n",
       "    <tr>\n",
       "      <th>2018350</th>\n",
       "      <th>637</th>\n",
       "      <td>15</td>\n",
       "      <td>1</td>\n",
       "      <td>3</td>\n",
       "      <td>0</td>\n",
       "      <td>5</td>\n",
       "      <td>31</td>\n",
       "      <td>2</td>\n",
       "      <td>23</td>\n",
       "      <td>0.000</td>\n",
       "    </tr>\n",
       "    <tr>\n",
       "      <th>2018351</th>\n",
       "      <th>637</th>\n",
       "      <td>15</td>\n",
       "      <td>1</td>\n",
       "      <td>3</td>\n",
       "      <td>1</td>\n",
       "      <td>5</td>\n",
       "      <td>31</td>\n",
       "      <td>2</td>\n",
       "      <td>23</td>\n",
       "      <td>196.240</td>\n",
       "    </tr>\n",
       "  </tbody>\n",
       "</table>\n",
       "<p>2018352 rows × 9 columns</p>\n",
       "</div>"
      ],
      "text/plain": [
       "                      county is_business product_type is_consumption  month  \\\n",
       "row_id  data_block_id                                                         \n",
       "0       0                  0           0            1              0      9   \n",
       "1       0                  0           0            1              1      9   \n",
       "2       0                  0           0            2              0      9   \n",
       "3       0                  0           0            2              1      9   \n",
       "4       0                  0           0            3              0      9   \n",
       "...                      ...         ...          ...            ...    ...   \n",
       "2018347 637               15           1            0              1      5   \n",
       "2018348 637               15           1            1              0      5   \n",
       "2018349 637               15           1            1              1      5   \n",
       "2018350 637               15           1            3              0      5   \n",
       "2018351 637               15           1            3              1      5   \n",
       "\n",
       "                       day  weekday  hour   target  \n",
       "row_id  data_block_id                               \n",
       "0       0                1        2     0    0.713  \n",
       "1       0                1        2     0   96.590  \n",
       "2       0                1        2     0    0.000  \n",
       "3       0                1        2     0   17.314  \n",
       "4       0                1        2     0    2.904  \n",
       "...                    ...      ...   ...      ...  \n",
       "2018347 637             31        2    23  197.233  \n",
       "2018348 637             31        2    23    0.000  \n",
       "2018349 637             31        2    23   28.404  \n",
       "2018350 637             31        2    23    0.000  \n",
       "2018351 637             31        2    23  196.240  \n",
       "\n",
       "[2018352 rows x 9 columns]"
      ]
     },
     "execution_count": 5,
     "metadata": {},
     "output_type": "execute_result"
    }
   ],
   "source": [
    "df_train = pd.read_csv(r'/kaggle/input/predict-energy-behavior-of-prosumers/train.csv')\n",
    "\n",
    "df_train[\"datetime\"] = pd.to_datetime(df_train[\"datetime\"])\n",
    "\n",
    "df_train[\"month\"] = df_train[\"datetime\"].dt.month\n",
    "df_train[\"day\"] = df_train[\"datetime\"].dt.day\n",
    "df_train[\"weekday\"] = df_train[\"datetime\"].dt.weekday\n",
    "df_train[\"hour\"] = df_train[\"datetime\"].dt.hour\n",
    "\n",
    "df_train[\"county\"] = df_train[\"county\"].astype(\"category\")\n",
    "df_train[\"is_business\"] = df_train[\"is_business\"].astype(\"category\")\n",
    "df_train[\"product_type\"] = df_train[\"product_type\"].astype(\"category\")\n",
    "df_train[\"is_consumption\"] = df_train[\"is_consumption\"].astype(\"category\")\n",
    "\n",
    "\n",
    "df_train = df_train.set_index([\"row_id\", \"data_block_id\"])\n",
    "df_train = df_train.drop(columns=[\"datetime\", \"prediction_unit_id\"])\n",
    "columns_to_keep = ['county', 'is_business', 'product_type', 'is_consumption', 'month', 'day', 'weekday', 'hour', 'target']\n",
    "df_train = df_train[columns_to_keep]\n",
    "df_train"
   ]
  },
  {
   "cell_type": "code",
   "execution_count": 6,
   "id": "e20f391c",
   "metadata": {
    "execution": {
     "iopub.execute_input": "2023-12-28T15:52:19.010802Z",
     "iopub.status.busy": "2023-12-28T15:52:19.009959Z",
     "iopub.status.idle": "2023-12-28T15:52:19.121982Z",
     "shell.execute_reply": "2023-12-28T15:52:19.120846Z"
    },
    "papermill": {
     "duration": 0.12301,
     "end_time": "2023-12-28T15:52:19.125548",
     "exception": false,
     "start_time": "2023-12-28T15:52:19.002538",
     "status": "completed"
    },
    "tags": []
   },
   "outputs": [],
   "source": [
    "df_train = df_train.dropna(subset=[\"target\"])"
   ]
  },
  {
   "cell_type": "code",
   "execution_count": 7,
   "id": "a5247078",
   "metadata": {
    "execution": {
     "iopub.execute_input": "2023-12-28T15:52:19.137415Z",
     "iopub.status.busy": "2023-12-28T15:52:19.136967Z",
     "iopub.status.idle": "2023-12-28T15:52:19.156209Z",
     "shell.execute_reply": "2023-12-28T15:52:19.155020Z"
    },
    "papermill": {
     "duration": 0.028232,
     "end_time": "2023-12-28T15:52:19.158988",
     "exception": false,
     "start_time": "2023-12-28T15:52:19.130756",
     "status": "completed"
    },
    "tags": []
   },
   "outputs": [],
   "source": [
    "X_train, y_train = df_train.drop('target', axis=1), df_train['target']"
   ]
  },
  {
   "cell_type": "code",
   "execution_count": 8,
   "id": "87f02302",
   "metadata": {
    "execution": {
     "iopub.execute_input": "2023-12-28T15:52:19.170795Z",
     "iopub.status.busy": "2023-12-28T15:52:19.170256Z",
     "iopub.status.idle": "2023-12-28T15:52:29.455342Z",
     "shell.execute_reply": "2023-12-28T15:52:29.454073Z"
    },
    "papermill": {
     "duration": 10.294219,
     "end_time": "2023-12-28T15:52:29.458220",
     "exception": false,
     "start_time": "2023-12-28T15:52:19.164001",
     "status": "completed"
    },
    "tags": []
   },
   "outputs": [
    {
     "data": {
      "text/html": [
       "<style>#sk-container-id-1 {color: black;background-color: white;}#sk-container-id-1 pre{padding: 0;}#sk-container-id-1 div.sk-toggleable {background-color: white;}#sk-container-id-1 label.sk-toggleable__label {cursor: pointer;display: block;width: 100%;margin-bottom: 0;padding: 0.3em;box-sizing: border-box;text-align: center;}#sk-container-id-1 label.sk-toggleable__label-arrow:before {content: \"▸\";float: left;margin-right: 0.25em;color: #696969;}#sk-container-id-1 label.sk-toggleable__label-arrow:hover:before {color: black;}#sk-container-id-1 div.sk-estimator:hover label.sk-toggleable__label-arrow:before {color: black;}#sk-container-id-1 div.sk-toggleable__content {max-height: 0;max-width: 0;overflow: hidden;text-align: left;background-color: #f0f8ff;}#sk-container-id-1 div.sk-toggleable__content pre {margin: 0.2em;color: black;border-radius: 0.25em;background-color: #f0f8ff;}#sk-container-id-1 input.sk-toggleable__control:checked~div.sk-toggleable__content {max-height: 200px;max-width: 100%;overflow: auto;}#sk-container-id-1 input.sk-toggleable__control:checked~label.sk-toggleable__label-arrow:before {content: \"▾\";}#sk-container-id-1 div.sk-estimator input.sk-toggleable__control:checked~label.sk-toggleable__label {background-color: #d4ebff;}#sk-container-id-1 div.sk-label input.sk-toggleable__control:checked~label.sk-toggleable__label {background-color: #d4ebff;}#sk-container-id-1 input.sk-hidden--visually {border: 0;clip: rect(1px 1px 1px 1px);clip: rect(1px, 1px, 1px, 1px);height: 1px;margin: -1px;overflow: hidden;padding: 0;position: absolute;width: 1px;}#sk-container-id-1 div.sk-estimator {font-family: monospace;background-color: #f0f8ff;border: 1px dotted black;border-radius: 0.25em;box-sizing: border-box;margin-bottom: 0.5em;}#sk-container-id-1 div.sk-estimator:hover {background-color: #d4ebff;}#sk-container-id-1 div.sk-parallel-item::after {content: \"\";width: 100%;border-bottom: 1px solid gray;flex-grow: 1;}#sk-container-id-1 div.sk-label:hover label.sk-toggleable__label {background-color: #d4ebff;}#sk-container-id-1 div.sk-serial::before {content: \"\";position: absolute;border-left: 1px solid gray;box-sizing: border-box;top: 0;bottom: 0;left: 50%;z-index: 0;}#sk-container-id-1 div.sk-serial {display: flex;flex-direction: column;align-items: center;background-color: white;padding-right: 0.2em;padding-left: 0.2em;position: relative;}#sk-container-id-1 div.sk-item {position: relative;z-index: 1;}#sk-container-id-1 div.sk-parallel {display: flex;align-items: stretch;justify-content: center;background-color: white;position: relative;}#sk-container-id-1 div.sk-item::before, #sk-container-id-1 div.sk-parallel-item::before {content: \"\";position: absolute;border-left: 1px solid gray;box-sizing: border-box;top: 0;bottom: 0;left: 50%;z-index: -1;}#sk-container-id-1 div.sk-parallel-item {display: flex;flex-direction: column;z-index: 1;position: relative;background-color: white;}#sk-container-id-1 div.sk-parallel-item:first-child::after {align-self: flex-end;width: 50%;}#sk-container-id-1 div.sk-parallel-item:last-child::after {align-self: flex-start;width: 50%;}#sk-container-id-1 div.sk-parallel-item:only-child::after {width: 0;}#sk-container-id-1 div.sk-dashed-wrapped {border: 1px dashed gray;margin: 0 0.4em 0.5em 0.4em;box-sizing: border-box;padding-bottom: 0.4em;background-color: white;}#sk-container-id-1 div.sk-label label {font-family: monospace;font-weight: bold;display: inline-block;line-height: 1.2em;}#sk-container-id-1 div.sk-label-container {text-align: center;}#sk-container-id-1 div.sk-container {/* jupyter's `normalize.less` sets `[hidden] { display: none; }` but bootstrap.min.css set `[hidden] { display: none !important; }` so we also need the `!important` here to be able to override the default hidden behavior on the sphinx rendered scikit-learn.org. See: https://github.com/scikit-learn/scikit-learn/issues/21755 */display: inline-block !important;position: relative;}#sk-container-id-1 div.sk-text-repr-fallback {display: none;}</style><div id=\"sk-container-id-1\" class=\"sk-top-container\"><div class=\"sk-text-repr-fallback\"><pre>XGBRegressor(base_score=None, booster=None, callbacks=None,\n",
       "             colsample_bylevel=None, colsample_bynode=None,\n",
       "             colsample_bytree=None, device=None, early_stopping_rounds=None,\n",
       "             enable_categorical=False, eval_metric=None, feature_types=None,\n",
       "             gamma=None, grow_policy=None, importance_type=None,\n",
       "             interaction_constraints=None, learning_rate=None, max_bin=None,\n",
       "             max_cat_threshold=None, max_cat_to_onehot=None,\n",
       "             max_delta_step=None, max_depth=None, max_leaves=None,\n",
       "             min_child_weight=None, missing=nan, monotone_constraints=None,\n",
       "             multi_strategy=None, n_estimators=None, n_jobs=None,\n",
       "             num_parallel_tree=None, random_state=None, ...)</pre><b>In a Jupyter environment, please rerun this cell to show the HTML representation or trust the notebook. <br />On GitHub, the HTML representation is unable to render, please try loading this page with nbviewer.org.</b></div><div class=\"sk-container\" hidden><div class=\"sk-item\"><div class=\"sk-estimator sk-toggleable\"><input class=\"sk-toggleable__control sk-hidden--visually\" id=\"sk-estimator-id-1\" type=\"checkbox\" checked><label for=\"sk-estimator-id-1\" class=\"sk-toggleable__label sk-toggleable__label-arrow\">XGBRegressor</label><div class=\"sk-toggleable__content\"><pre>XGBRegressor(base_score=None, booster=None, callbacks=None,\n",
       "             colsample_bylevel=None, colsample_bynode=None,\n",
       "             colsample_bytree=None, device=None, early_stopping_rounds=None,\n",
       "             enable_categorical=False, eval_metric=None, feature_types=None,\n",
       "             gamma=None, grow_policy=None, importance_type=None,\n",
       "             interaction_constraints=None, learning_rate=None, max_bin=None,\n",
       "             max_cat_threshold=None, max_cat_to_onehot=None,\n",
       "             max_delta_step=None, max_depth=None, max_leaves=None,\n",
       "             min_child_weight=None, missing=nan, monotone_constraints=None,\n",
       "             multi_strategy=None, n_estimators=None, n_jobs=None,\n",
       "             num_parallel_tree=None, random_state=None, ...)</pre></div></div></div></div></div>"
      ],
      "text/plain": [
       "XGBRegressor(base_score=None, booster=None, callbacks=None,\n",
       "             colsample_bylevel=None, colsample_bynode=None,\n",
       "             colsample_bytree=None, device=None, early_stopping_rounds=None,\n",
       "             enable_categorical=False, eval_metric=None, feature_types=None,\n",
       "             gamma=None, grow_policy=None, importance_type=None,\n",
       "             interaction_constraints=None, learning_rate=None, max_bin=None,\n",
       "             max_cat_threshold=None, max_cat_to_onehot=None,\n",
       "             max_delta_step=None, max_depth=None, max_leaves=None,\n",
       "             min_child_weight=None, missing=nan, monotone_constraints=None,\n",
       "             multi_strategy=None, n_estimators=None, n_jobs=None,\n",
       "             num_parallel_tree=None, random_state=None, ...)"
      ]
     },
     "execution_count": 8,
     "metadata": {},
     "output_type": "execute_result"
    }
   ],
   "source": [
    "from xgboost import XGBRegressor\n",
    "model = XGBRegressor()\n",
    "model.fit(X_train.to_numpy(), y_train.to_numpy())"
   ]
  },
  {
   "cell_type": "code",
   "execution_count": 9,
   "id": "f99e051a",
   "metadata": {
    "execution": {
     "iopub.execute_input": "2023-12-28T15:52:29.471173Z",
     "iopub.status.busy": "2023-12-28T15:52:29.470698Z",
     "iopub.status.idle": "2023-12-28T15:52:29.954719Z",
     "shell.execute_reply": "2023-12-28T15:52:29.953513Z"
    },
    "papermill": {
     "duration": 0.4942,
     "end_time": "2023-12-28T15:52:29.957892",
     "exception": false,
     "start_time": "2023-12-28T15:52:29.463692",
     "status": "completed"
    },
    "tags": []
   },
   "outputs": [
    {
     "name": "stdout",
     "output_type": "stream",
     "text": [
      "This version of the API is not optimized and should not be used to estimate the runtime of your code on the hidden test set.\n"
     ]
    }
   ],
   "source": [
    "counter = 0\n",
    "for (test, revealed_targets, client, historical_weather,\n",
    "        forecast_weather, electricity_prices, gas_prices, sample_prediction) in iter_test:\n",
    "\n",
    "    X_test = feature_eng(test)\n",
    "    y_pred = model.predict(X_test)\n",
    "    y_pred = y_pred.clip(0)\n",
    "    \n",
    "    sample_prediction['target'] = y_pred\n",
    "    counter += 1\n",
    "    env.predict(sample_prediction)"
   ]
  }
 ],
 "metadata": {
  "kaggle": {
   "accelerator": "none",
   "dataSources": [
    {
     "databundleVersionId": 7292407,
     "sourceId": 57236,
     "sourceType": "competition"
    }
   ],
   "dockerImageVersionId": 30626,
   "isGpuEnabled": false,
   "isInternetEnabled": false,
   "language": "python",
   "sourceType": "notebook"
  },
  "kernelspec": {
   "display_name": "Python 3",
   "language": "python",
   "name": "python3"
  },
  "language_info": {
   "codemirror_mode": {
    "name": "ipython",
    "version": 3
   },
   "file_extension": ".py",
   "mimetype": "text/x-python",
   "name": "python",
   "nbconvert_exporter": "python",
   "pygments_lexer": "ipython3",
   "version": "3.10.12"
  },
  "papermill": {
   "default_parameters": {},
   "duration": 34.537028,
   "end_time": "2023-12-28T15:52:32.093290",
   "environment_variables": {},
   "exception": null,
   "input_path": "__notebook__.ipynb",
   "output_path": "__notebook__.ipynb",
   "parameters": {},
   "start_time": "2023-12-28T15:51:57.556262",
   "version": "2.4.0"
  }
 },
 "nbformat": 4,
 "nbformat_minor": 5
}
